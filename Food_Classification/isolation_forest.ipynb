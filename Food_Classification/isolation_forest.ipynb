{
  "cells": [
    {
      "cell_type": "code",
      "execution_count": 1,
      "metadata": {
        "id": "ayNVlt_C1jzN"
      },
      "outputs": [],
      "source": [
        "import os\n",
        "import numpy as np\n",
        "import pandas as pd\n",
        "import matplotlib.pyplot as plt\n",
        "from sklearn.ensemble import IsolationForest\n",
        "from sklearn.preprocessing import LabelEncoder\n",
        "from sklearn.model_selection import train_test_split\n",
        "import cv2\n",
        "from keras.applications.vgg16 import VGG16, preprocess_input\n",
        "from keras.models import Model\n",
        "from keras.layers import BatchNormalization\n",
        "from keras.preprocessing.image import ImageDataGenerator\n",
        "from google.colab import drive\n",
        "from zipfile import *\n",
        "from sklearn.metrics import accuracy_score, precision_score, recall_score, f1_score"
      ]
    },
    {
      "cell_type": "code",
      "execution_count": 2,
      "metadata": {
        "colab": {
          "base_uri": "https://localhost:8080/"
        },
        "id": "MAz7--9E1qul",
        "outputId": "2622e570-5fa7-40c2-ddca-8c62f15e8e50"
      },
      "outputs": [
        {
          "name": "stdout",
          "output_type": "stream",
          "text": [
            "Mounted at /content/drive\n",
            "/usr/local/lib/python3.10/dist-packages/gdown/__main__.py:132: FutureWarning: Option `--id` was deprecated in version 4.3.1 and will be removed in 5.0. You don't need to pass it anymore to use a file ID.\n",
            "  warnings.warn(\n",
            "Downloading...\n",
            "From (original): https://drive.google.com/uc?id=15CHt2ueS4c7emHpmzFHC3c0TGd51Mnvz\n",
            "From (redirected): https://drive.google.com/uc?id=15CHt2ueS4c7emHpmzFHC3c0TGd51Mnvz&confirm=t&uuid=fd544545-b1f0-406c-b923-1b4f1ed786b5\n",
            "To: /content/train.zip\n",
            "100% 898M/898M [00:11<00:00, 77.2MB/s]\n"
          ]
        }
      ],
      "source": [
        "drive.mount(\"/content/drive\")\n",
        "!gdown --id '15CHt2ueS4c7emHpmzFHC3c0TGd51Mnvz' --output train.zip\n",
        "\n",
        "# with ZipFile('train.zip', 'r') as zip_ref:\n",
        "#   zip_ref.extractall('/content/drive/MyDrive/')"
      ]
    },
    {
      "cell_type": "code",
      "execution_count": null,
      "metadata": {
        "id": "OTXAmBa72KWX"
      },
      "outputs": [],
      "source": [
        "data_dir = '/content/drive/MyDrive'\n",
        "train_dir = os.path.join(data_dir, 'train')\n",
        "X = []\n",
        "y = []\n",
        "for folder in os.listdir(train_dir):\n",
        "    folder_path = os.path.join(train_dir, folder)\n",
        "    for filename in os.listdir(folder_path):\n",
        "        img_path = os.path.join(folder_path, filename)\n",
        "        img = cv2.imread(img_path)\n",
        "        try:\n",
        "            img = cv2.resize(img, (224, 224), interpolation=cv2.INTER_AREA)\n",
        "            X.append(img)\n",
        "            y.append(folder)\n",
        "        except:\n",
        "            continue\n",
        "\n",
        "le = LabelEncoder()\n",
        "y = le.fit_transform(y)\n",
        "X = np.array(X)\n",
        "\n",
        "#Use VGG16 transfer learning \n",
        "base_model = VGG16(weights='imagenet', include_top=False, input_shape=(224, 224, 3))\n",
        "for layer in base_model.layers:\n",
        "    layer.trainable = False\n",
        "\n",
        "#Add batch normalization\n",
        "x = base_model.output\n",
        "x = BatchNormalization()(x)\n",
        "x = BatchNormalization()(x)\n",
        "model = Model(inputs=base_model.input, outputs=x)\n",
        "\n",
        "X_features = model.predict(X)\n",
        "\n",
        "X_train, X_test, y_train, y_test = train_test_split(X_features, y, test_size=0.2, random_state=42)\n",
        "\n",
        "#Use IsolationForest for anomaly detection\n",
        "model = IsolationForest(contamination=0.1)\n",
        "model.fit(X_train)\n",
        "y_pred = model.predict(X_test)\n",
        "\n",
        "# Visualization\n",
        "plt.figure(figsize=(10, 8))\n",
        "plt.scatter(X_test[y_pred == 1, 0], X_test[y_pred == 1, 1], c='b', label='Normal')\n",
        "plt.scatter(X_test[y_pred == -1, 0], X_test[y_pred == -1, 1], c='r', label='Anomaly')\n",
        "plt.title('Anomaly Detection Results')\n",
        "plt.legend()\n",
        "plt.show()\n",
        "\n",
        "#Evaluation\n",
        "print('Accuracy:', accuracy_score(y_test, y_pred))\n",
        "print('Precision:', precision_score(y_test, y_pred))\n",
        "print('Recall:', recall_score(y_test, y_pred))\n",
        "print('F1-score:', f1_score(y_test"
      ]
    }
  ],
  "metadata": {
    "accelerator": "GPU",
    "colab": {
      "gpuType": "T4",
      "provenance": []
    },
    "kernelspec": {
      "display_name": "Python 3",
      "name": "python3"
    },
    "language_info": {
      "name": "python"
    }
  },
  "nbformat": 4,
  "nbformat_minor": 0
}
