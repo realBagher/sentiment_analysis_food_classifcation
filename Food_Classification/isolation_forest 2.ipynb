{
  "cells": [
    {
      "cell_type": "code",
      "execution_count": 8,
      "metadata": {
        "id": "ayNVlt_C1jzN"
      },
      "outputs": [],
      "source": [
        "import os\n",
        "import numpy as np\n",
        "import pandas as pd\n",
        "import matplotlib.pyplot as plt\n",
        "from sklearn.ensemble import IsolationForest\n",
        "from sklearn.preprocessing import LabelEncoder\n",
        "from sklearn.model_selection import train_test_split\n",
        "import cv2\n",
        "from keras.applications.vgg16 import VGG16, preprocess_input\n",
        "from keras.models import Model\n",
        "from keras.layers import BatchNormalization\n",
        "from keras.preprocessing.image import ImageDataGenerator\n",
        "from google.colab import drive\n",
        "from zipfile import *\n",
        "from sklearn.metrics import accuracy_score, precision_score, recall_score, f1_score"
      ]
    },
    {
      "cell_type": "code",
      "execution_count": 2,
      "metadata": {
        "colab": {
          "base_uri": "https://localhost:8080/"
        },
        "id": "MAz7--9E1qul",
        "outputId": "34280494-da00-4151-f5bb-631ba15c10cf"
      },
      "outputs": [
        {
          "name": "stdout",
          "output_type": "stream",
          "text": [
            "Mounted at /content/drive\n",
            "/usr/local/lib/python3.10/dist-packages/gdown/__main__.py:132: FutureWarning: Option `--id` was deprecated in version 4.3.1 and will be removed in 5.0. You don't need to pass it anymore to use a file ID.\n",
            "  warnings.warn(\n",
            "Downloading...\n",
            "From (original): https://drive.google.com/uc?id=15CHt2ueS4c7emHpmzFHC3c0TGd51Mnvz\n",
            "From (redirected): https://drive.google.com/uc?id=15CHt2ueS4c7emHpmzFHC3c0TGd51Mnvz&confirm=t&uuid=a4d759dc-a348-483d-a36e-fe95878e06a5\n",
            "To: /content/train.zip\n",
            "100% 898M/898M [00:13<00:00, 65.2MB/s]\n"
          ]
        }
      ],
      "source": [
        "drive.mount(\"/content/drive\")\n",
        "!gdown --id '15CHt2ueS4c7emHpmzFHC3c0TGd51Mnvz' --output train.zip\n",
        "\n",
        "# with ZipFile('train.zip', 'r') as zip_ref:\n",
        "#   zip_ref.extractall('/content/drive/MyDrive/')"
      ]
    },
    {
      "cell_type": "code",
      "execution_count": 12,
      "metadata": {
        "colab": {
          "base_uri": "https://localhost:8080/",
          "height": 211
        },
        "id": "OTXAmBa72KWX",
        "outputId": "49d22304-5722-4944-855d-df1ae64030d8"
      },
      "outputs": [
        {
          "ename": "ValueError",
          "evalue": "all the input arrays must have same number of dimensions, but the array at index 0 has 2 dimension(s) and the array at index 1 has 3 dimension(s)",
          "output_type": "error",
          "traceback": [
            "\u001b[0;31m---------------------------------------------------------------------------\u001b[0m",
            "\u001b[0;31mValueError\u001b[0m                                Traceback (most recent call last)",
            "\u001b[0;32m<ipython-input-12-dc38912cfe19>\u001b[0m in \u001b[0;36m<cell line: 27>\u001b[0;34m()\u001b[0m\n\u001b[1;32m     27\u001b[0m \u001b[0;32mfor\u001b[0m \u001b[0mX_batch\u001b[0m\u001b[0;34m,\u001b[0m \u001b[0my_batch\u001b[0m \u001b[0;32min\u001b[0m \u001b[0mload_data_in_batches\u001b[0m\u001b[0;34m(\u001b[0m\u001b[0mtrain_dir\u001b[0m\u001b[0;34m,\u001b[0m \u001b[0mimg_size\u001b[0m\u001b[0;34m)\u001b[0m\u001b[0;34m:\u001b[0m\u001b[0;34m\u001b[0m\u001b[0;34m\u001b[0m\u001b[0m\n\u001b[1;32m     28\u001b[0m     \u001b[0my_batch\u001b[0m \u001b[0;34m=\u001b[0m \u001b[0mle\u001b[0m\u001b[0;34m.\u001b[0m\u001b[0mfit_transform\u001b[0m\u001b[0;34m(\u001b[0m\u001b[0my_batch\u001b[0m\u001b[0;34m)\u001b[0m\u001b[0;34m\u001b[0m\u001b[0;34m\u001b[0m\u001b[0m\n\u001b[0;32m---> 29\u001b[0;31m     \u001b[0mX\u001b[0m \u001b[0;34m=\u001b[0m \u001b[0mnp\u001b[0m\u001b[0;34m.\u001b[0m\u001b[0mconcatenate\u001b[0m\u001b[0;34m(\u001b[0m\u001b[0;34m(\u001b[0m\u001b[0mX\u001b[0m\u001b[0;34m,\u001b[0m \u001b[0mX_batch\u001b[0m\u001b[0;34m)\u001b[0m\u001b[0;34m,\u001b[0m \u001b[0maxis\u001b[0m\u001b[0;34m=\u001b[0m\u001b[0;36m0\u001b[0m\u001b[0;34m)\u001b[0m\u001b[0;34m\u001b[0m\u001b[0;34m\u001b[0m\u001b[0m\n\u001b[0m\u001b[1;32m     30\u001b[0m     \u001b[0my\u001b[0m \u001b[0;34m=\u001b[0m \u001b[0mnp\u001b[0m\u001b[0;34m.\u001b[0m\u001b[0mconcatenate\u001b[0m\u001b[0;34m(\u001b[0m\u001b[0;34m(\u001b[0m\u001b[0my\u001b[0m\u001b[0;34m,\u001b[0m \u001b[0my_batch\u001b[0m\u001b[0;34m)\u001b[0m\u001b[0;34m)\u001b[0m\u001b[0;34m\u001b[0m\u001b[0;34m\u001b[0m\u001b[0m\n\u001b[1;32m     31\u001b[0m \u001b[0;34m\u001b[0m\u001b[0m\n",
            "\u001b[0;31mValueError\u001b[0m: all the input arrays must have same number of dimensions, but the array at index 0 has 2 dimension(s) and the array at index 1 has 3 dimension(s)"
          ]
        }
      ],
      "source": [
        "data_dir = '/content/drive/MyDrive'\n",
        "train_dir = os.path.join(data_dir, 'train')\n",
        "img_size = (128, 128)\n",
        "def load_data_in_batches(directory, img_size, batch_size=1000):\n",
        "    X = []\n",
        "    y = []\n",
        "    for folder in os.listdir(directory):\n",
        "        folder_path = os.path.join(directory, folder)\n",
        "        for filename in os.listdir(folder_path):\n",
        "            img_path = os.path.join(folder_path, filename)\n",
        "            img = cv2.imread(img_path)\n",
        "            if img is not None:\n",
        "                img = cv2.resize(img, img_size, interpolation=cv2.INTER_AREA)\n",
        "                img = img.reshape(1, -1)  # Ensure each image has 2 dimensions\n",
        "                X.append(img)\n",
        "                y.append(folder)\n",
        "                if len(X) >= batch_size:\n",
        "                    yield np.array(X), np.array(y)\n",
        "                    X, y = [], []\n",
        "    if X:\n",
        "        yield np.array(X), np.array(y)\n",
        "\n",
        "le = LabelEncoder()\n",
        "X = np.empty((0, img_size[0] * img_size[1] * 3))\n",
        "y = []\n",
        "\n",
        "for X_batch, y_batch in load_data_in_batches(train_dir, img_size):\n",
        "    y_batch = le.fit_transform(y_batch)\n",
        "    X = np.concatenate((X, X_batch), axis=0)\n",
        "    y = np.concatenate((y, y_batch))\n",
        "\n",
        "y = le.fit_transform(y)\n",
        "\n",
        "base_model = VGG16(weights='imagenet', include_top=False, input_shape=(224, 224, 3))\n",
        "for layer in base_model.layers:\n",
        "    layer.trainable = False\n",
        "\n",
        "x = base_model.output\n",
        "x = BatchNormalization()(x)\n",
        "x = BatchNormalization()(x)\n",
        "model = Model(inputs=base_model.input, outputs=x)\n",
        "\n",
        "X_features = model.predict(X)\n",
        "X_train, X_test, y_train, y_test = train_test_split(X_features, y, test_size=0.2, random_state=42)\n",
        "\n",
        "model = IsolationForest(contamination=0.1)\n",
        "model.fit(X_train)\n",
        "y_pred = model.predict(X_test)"
      ]
    },
    {
      "cell_type": "code",
      "execution_count": null,
      "metadata": {
        "id": "aau8RpJS2Tbz"
      },
      "outputs": [],
      "source": [
        "anomaly_scores = model.decision_function(X_train)\n",
        "anomalies = (anomaly_scores < 0).astype(int)\n",
        "# 0==normal , 1==anormal\n",
        "print(anomalies)"
      ]
    },
    {
      "cell_type": "code",
      "execution_count": null,
      "metadata": {
        "id": "dxVPEKh14qvH"
      },
      "outputs": [],
      "source": [
        "#Visualization\n",
        "plt.figure(figsize=(10, 8))\n",
        "plt.scatter(X_test[y_pred == 1, 0], X_test[y_pred == 1, 1], c='b', label='Normal')\n",
        "plt.scatter(X_test[y_pred == -1, 0], X_test[y_pred == -1, 1], c='r', label='Anomaly')\n",
        "plt.title('Anomaly Detection Results')\n",
        "plt.legend()\n",
        "plt.show()\n",
        "\n",
        "#Evaluation\n",
        "print('Accuracy:', accuracy_score(y_test, y_pred))\n",
        "print('Precision:', precision_score(y_test, y_pred))\n",
        "print('Recall:', recall_score(y_test, y_pred))\n",
        "print('F1-score:', f1_score(y_test, y_pred))"
      ]
    }
  ],
  "metadata": {
    "accelerator": "GPU",
    "colab": {
      "gpuType": "T4",
      "provenance": []
    },
    "kernelspec": {
      "display_name": "Python 3",
      "name": "python3"
    },
    "language_info": {
      "name": "python"
    }
  },
  "nbformat": 4,
  "nbformat_minor": 0
}
