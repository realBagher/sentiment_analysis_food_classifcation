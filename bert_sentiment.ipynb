{
  "metadata": {
    "kernelspec": {
      "display_name": "Python 3",
      "name": "python3"
    },
    "language_info": {
      "name": "python",
      "version": "3.10.13",
      "mimetype": "text/x-python",
      "codemirror_mode": {
        "name": "ipython",
        "version": 3
      },
      "pygments_lexer": "ipython3",
      "nbconvert_exporter": "python",
      "file_extension": ".py"
    },
    "kaggle": {
      "accelerator": "none",
      "dataSources": [
        {
          "sourceId": 8933867,
          "sourceType": "datasetVersion",
          "datasetId": 5374712
        },
        {
          "sourceId": 8956125,
          "sourceType": "datasetVersion",
          "datasetId": 5390053
        }
      ],
      "dockerImageVersionId": 30746,
      "isInternetEnabled": true,
      "language": "python",
      "sourceType": "notebook",
      "isGpuEnabled": false
    },
    "colab": {
      "provenance": [],
      "gpuType": "T4",
      "include_colab_link": true
    },
    "accelerator": "GPU"
  },
  "nbformat_minor": 0,
  "nbformat": 4,
  "cells": [
    {
      "cell_type": "markdown",
      "metadata": {
        "id": "view-in-github",
        "colab_type": "text"
      },
      "source": [
        "<a href=\"https://colab.research.google.com/github/realBagher/sentiment_analysis_food_classifcation/blob/main/bert_sentiment.ipynb\" target=\"_parent\"><img src=\"https://colab.research.google.com/assets/colab-badge.svg\" alt=\"Open In Colab\"/></a>"
      ]
    },
    {
      "cell_type": "code",
      "source": [
        "from google.colab import drive\n",
        "drive.mount('/content/drive')"
      ],
      "metadata": {
        "colab": {
          "base_uri": "https://localhost:8080/"
        },
        "id": "DCbi0NQyQ9o9",
        "outputId": "5e3e61d9-4f6e-4258-92bc-5f787f1981d6"
      },
      "execution_count": null,
      "outputs": [
        {
          "output_type": "stream",
          "name": "stdout",
          "text": [
            "Mounted at /content/drive\n"
          ]
        }
      ]
    },
    {
      "cell_type": "code",
      "source": [
        "!pip install transformers\n",
        "!pip install datasets\n",
        "!pip install evaluate"
      ],
      "metadata": {
        "colab": {
          "base_uri": "https://localhost:8080/"
        },
        "id": "eN69gWbPeVsw",
        "outputId": "4984b8b6-58c7-4786-cbcb-ec33539dc044",
        "collapsed": true
      },
      "execution_count": null,
      "outputs": [
        {
          "output_type": "stream",
          "name": "stdout",
          "text": [
            "Requirement already satisfied: transformers in /usr/local/lib/python3.10/dist-packages (4.41.2)\n",
            "Requirement already satisfied: filelock in /usr/local/lib/python3.10/dist-packages (from transformers) (3.15.4)\n",
            "Requirement already satisfied: huggingface-hub<1.0,>=0.23.0 in /usr/local/lib/python3.10/dist-packages (from transformers) (0.23.4)\n",
            "Requirement already satisfied: numpy>=1.17 in /usr/local/lib/python3.10/dist-packages (from transformers) (1.25.2)\n",
            "Requirement already satisfied: packaging>=20.0 in /usr/local/lib/python3.10/dist-packages (from transformers) (24.1)\n",
            "Requirement already satisfied: pyyaml>=5.1 in /usr/local/lib/python3.10/dist-packages (from transformers) (6.0.1)\n",
            "Requirement already satisfied: regex!=2019.12.17 in /usr/local/lib/python3.10/dist-packages (from transformers) (2024.5.15)\n",
            "Requirement already satisfied: requests in /usr/local/lib/python3.10/dist-packages (from transformers) (2.32.3)\n",
            "Requirement already satisfied: tokenizers<0.20,>=0.19 in /usr/local/lib/python3.10/dist-packages (from transformers) (0.19.1)\n",
            "Requirement already satisfied: safetensors>=0.4.1 in /usr/local/lib/python3.10/dist-packages (from transformers) (0.4.3)\n",
            "Requirement already satisfied: tqdm>=4.27 in /usr/local/lib/python3.10/dist-packages (from transformers) (4.66.4)\n",
            "Requirement already satisfied: fsspec>=2023.5.0 in /usr/local/lib/python3.10/dist-packages (from huggingface-hub<1.0,>=0.23.0->transformers) (2023.6.0)\n",
            "Requirement already satisfied: typing-extensions>=3.7.4.3 in /usr/local/lib/python3.10/dist-packages (from huggingface-hub<1.0,>=0.23.0->transformers) (4.12.2)\n",
            "Requirement already satisfied: charset-normalizer<4,>=2 in /usr/local/lib/python3.10/dist-packages (from requests->transformers) (3.3.2)\n",
            "Requirement already satisfied: idna<4,>=2.5 in /usr/local/lib/python3.10/dist-packages (from requests->transformers) (3.7)\n",
            "Requirement already satisfied: urllib3<3,>=1.21.1 in /usr/local/lib/python3.10/dist-packages (from requests->transformers) (2.0.7)\n",
            "Requirement already satisfied: certifi>=2017.4.17 in /usr/local/lib/python3.10/dist-packages (from requests->transformers) (2024.7.4)\n",
            "Requirement already satisfied: datasets in /usr/local/lib/python3.10/dist-packages (2.20.0)\n",
            "Requirement already satisfied: filelock in /usr/local/lib/python3.10/dist-packages (from datasets) (3.15.4)\n",
            "Requirement already satisfied: numpy>=1.17 in /usr/local/lib/python3.10/dist-packages (from datasets) (1.25.2)\n",
            "Requirement already satisfied: pyarrow>=15.0.0 in /usr/local/lib/python3.10/dist-packages (from datasets) (17.0.0)\n",
            "Requirement already satisfied: pyarrow-hotfix in /usr/local/lib/python3.10/dist-packages (from datasets) (0.6)\n",
            "Requirement already satisfied: dill<0.3.9,>=0.3.0 in /usr/local/lib/python3.10/dist-packages (from datasets) (0.3.8)\n",
            "Requirement already satisfied: pandas in /usr/local/lib/python3.10/dist-packages (from datasets) (2.0.3)\n",
            "Requirement already satisfied: requests>=2.32.2 in /usr/local/lib/python3.10/dist-packages (from datasets) (2.32.3)\n",
            "Requirement already satisfied: tqdm>=4.66.3 in /usr/local/lib/python3.10/dist-packages (from datasets) (4.66.4)\n",
            "Requirement already satisfied: xxhash in /usr/local/lib/python3.10/dist-packages (from datasets) (3.4.1)\n",
            "Requirement already satisfied: multiprocess in /usr/local/lib/python3.10/dist-packages (from datasets) (0.70.16)\n",
            "Requirement already satisfied: fsspec[http]<=2024.5.0,>=2023.1.0 in /usr/local/lib/python3.10/dist-packages (from datasets) (2023.6.0)\n",
            "Requirement already satisfied: aiohttp in /usr/local/lib/python3.10/dist-packages (from datasets) (3.9.5)\n",
            "Requirement already satisfied: huggingface-hub>=0.21.2 in /usr/local/lib/python3.10/dist-packages (from datasets) (0.23.4)\n",
            "Requirement already satisfied: packaging in /usr/local/lib/python3.10/dist-packages (from datasets) (24.1)\n",
            "Requirement already satisfied: pyyaml>=5.1 in /usr/local/lib/python3.10/dist-packages (from datasets) (6.0.1)\n",
            "Requirement already satisfied: aiosignal>=1.1.2 in /usr/local/lib/python3.10/dist-packages (from aiohttp->datasets) (1.3.1)\n",
            "Requirement already satisfied: attrs>=17.3.0 in /usr/local/lib/python3.10/dist-packages (from aiohttp->datasets) (23.2.0)\n",
            "Requirement already satisfied: frozenlist>=1.1.1 in /usr/local/lib/python3.10/dist-packages (from aiohttp->datasets) (1.4.1)\n",
            "Requirement already satisfied: multidict<7.0,>=4.5 in /usr/local/lib/python3.10/dist-packages (from aiohttp->datasets) (6.0.5)\n",
            "Requirement already satisfied: yarl<2.0,>=1.0 in /usr/local/lib/python3.10/dist-packages (from aiohttp->datasets) (1.9.4)\n",
            "Requirement already satisfied: async-timeout<5.0,>=4.0 in /usr/local/lib/python3.10/dist-packages (from aiohttp->datasets) (4.0.3)\n",
            "Requirement already satisfied: typing-extensions>=3.7.4.3 in /usr/local/lib/python3.10/dist-packages (from huggingface-hub>=0.21.2->datasets) (4.12.2)\n",
            "Requirement already satisfied: charset-normalizer<4,>=2 in /usr/local/lib/python3.10/dist-packages (from requests>=2.32.2->datasets) (3.3.2)\n",
            "Requirement already satisfied: idna<4,>=2.5 in /usr/local/lib/python3.10/dist-packages (from requests>=2.32.2->datasets) (3.7)\n",
            "Requirement already satisfied: urllib3<3,>=1.21.1 in /usr/local/lib/python3.10/dist-packages (from requests>=2.32.2->datasets) (2.0.7)\n",
            "Requirement already satisfied: certifi>=2017.4.17 in /usr/local/lib/python3.10/dist-packages (from requests>=2.32.2->datasets) (2024.7.4)\n",
            "Requirement already satisfied: python-dateutil>=2.8.2 in /usr/local/lib/python3.10/dist-packages (from pandas->datasets) (2.8.2)\n",
            "Requirement already satisfied: pytz>=2020.1 in /usr/local/lib/python3.10/dist-packages (from pandas->datasets) (2023.4)\n",
            "Requirement already satisfied: tzdata>=2022.1 in /usr/local/lib/python3.10/dist-packages (from pandas->datasets) (2024.1)\n",
            "Requirement already satisfied: six>=1.5 in /usr/local/lib/python3.10/dist-packages (from python-dateutil>=2.8.2->pandas->datasets) (1.16.0)\n",
            "Requirement already satisfied: evaluate in /usr/local/lib/python3.10/dist-packages (0.4.2)\n",
            "Requirement already satisfied: datasets>=2.0.0 in /usr/local/lib/python3.10/dist-packages (from evaluate) (2.20.0)\n",
            "Requirement already satisfied: numpy>=1.17 in /usr/local/lib/python3.10/dist-packages (from evaluate) (1.25.2)\n",
            "Requirement already satisfied: dill in /usr/local/lib/python3.10/dist-packages (from evaluate) (0.3.8)\n",
            "Requirement already satisfied: pandas in /usr/local/lib/python3.10/dist-packages (from evaluate) (2.0.3)\n",
            "Requirement already satisfied: requests>=2.19.0 in /usr/local/lib/python3.10/dist-packages (from evaluate) (2.32.3)\n",
            "Requirement already satisfied: tqdm>=4.62.1 in /usr/local/lib/python3.10/dist-packages (from evaluate) (4.66.4)\n",
            "Requirement already satisfied: xxhash in /usr/local/lib/python3.10/dist-packages (from evaluate) (3.4.1)\n",
            "Requirement already satisfied: multiprocess in /usr/local/lib/python3.10/dist-packages (from evaluate) (0.70.16)\n",
            "Requirement already satisfied: fsspec[http]>=2021.05.0 in /usr/local/lib/python3.10/dist-packages (from evaluate) (2023.6.0)\n",
            "Requirement already satisfied: huggingface-hub>=0.7.0 in /usr/local/lib/python3.10/dist-packages (from evaluate) (0.23.4)\n",
            "Requirement already satisfied: packaging in /usr/local/lib/python3.10/dist-packages (from evaluate) (24.1)\n",
            "Requirement already satisfied: filelock in /usr/local/lib/python3.10/dist-packages (from datasets>=2.0.0->evaluate) (3.15.4)\n",
            "Requirement already satisfied: pyarrow>=15.0.0 in /usr/local/lib/python3.10/dist-packages (from datasets>=2.0.0->evaluate) (17.0.0)\n",
            "Requirement already satisfied: pyarrow-hotfix in /usr/local/lib/python3.10/dist-packages (from datasets>=2.0.0->evaluate) (0.6)\n",
            "Requirement already satisfied: aiohttp in /usr/local/lib/python3.10/dist-packages (from datasets>=2.0.0->evaluate) (3.9.5)\n",
            "Requirement already satisfied: pyyaml>=5.1 in /usr/local/lib/python3.10/dist-packages (from datasets>=2.0.0->evaluate) (6.0.1)\n",
            "Requirement already satisfied: typing-extensions>=3.7.4.3 in /usr/local/lib/python3.10/dist-packages (from huggingface-hub>=0.7.0->evaluate) (4.12.2)\n",
            "Requirement already satisfied: charset-normalizer<4,>=2 in /usr/local/lib/python3.10/dist-packages (from requests>=2.19.0->evaluate) (3.3.2)\n",
            "Requirement already satisfied: idna<4,>=2.5 in /usr/local/lib/python3.10/dist-packages (from requests>=2.19.0->evaluate) (3.7)\n",
            "Requirement already satisfied: urllib3<3,>=1.21.1 in /usr/local/lib/python3.10/dist-packages (from requests>=2.19.0->evaluate) (2.0.7)\n",
            "Requirement already satisfied: certifi>=2017.4.17 in /usr/local/lib/python3.10/dist-packages (from requests>=2.19.0->evaluate) (2024.7.4)\n",
            "Requirement already satisfied: python-dateutil>=2.8.2 in /usr/local/lib/python3.10/dist-packages (from pandas->evaluate) (2.8.2)\n",
            "Requirement already satisfied: pytz>=2020.1 in /usr/local/lib/python3.10/dist-packages (from pandas->evaluate) (2023.4)\n",
            "Requirement already satisfied: tzdata>=2022.1 in /usr/local/lib/python3.10/dist-packages (from pandas->evaluate) (2024.1)\n",
            "Requirement already satisfied: aiosignal>=1.1.2 in /usr/local/lib/python3.10/dist-packages (from aiohttp->datasets>=2.0.0->evaluate) (1.3.1)\n",
            "Requirement already satisfied: attrs>=17.3.0 in /usr/local/lib/python3.10/dist-packages (from aiohttp->datasets>=2.0.0->evaluate) (23.2.0)\n",
            "Requirement already satisfied: frozenlist>=1.1.1 in /usr/local/lib/python3.10/dist-packages (from aiohttp->datasets>=2.0.0->evaluate) (1.4.1)\n",
            "Requirement already satisfied: multidict<7.0,>=4.5 in /usr/local/lib/python3.10/dist-packages (from aiohttp->datasets>=2.0.0->evaluate) (6.0.5)\n",
            "Requirement already satisfied: yarl<2.0,>=1.0 in /usr/local/lib/python3.10/dist-packages (from aiohttp->datasets>=2.0.0->evaluate) (1.9.4)\n",
            "Requirement already satisfied: async-timeout<5.0,>=4.0 in /usr/local/lib/python3.10/dist-packages (from aiohttp->datasets>=2.0.0->evaluate) (4.0.3)\n",
            "Requirement already satisfied: six>=1.5 in /usr/local/lib/python3.10/dist-packages (from python-dateutil>=2.8.2->pandas->evaluate) (1.16.0)\n"
          ]
        }
      ]
    },
    {
      "cell_type": "code",
      "source": [
        "import numpy as np\n",
        "import pandas as pd\n",
        "import re\n",
        "import os\n",
        "import zipfile\n",
        "\n",
        "import matplotlib.pyplot as plt\n",
        "import seaborn as sns\n",
        "\n",
        "\n",
        "from sklearn.model_selection import train_test_split, KFold\n",
        "\n",
        "import keras\n",
        "import tensorflow as tf\n",
        "import tensorflow_datasets as tfds\n",
        "# import tensorflow_text\n",
        "from tensorflow.keras import Sequential, regularizers\n",
        "from tensorflow.keras.preprocessing.text import Tokenizer\n",
        "from tensorflow.keras.utils import to_categorical\n",
        "from tensorflow.keras.preprocessing.sequence import pad_sequences\n",
        "from tensorflow.keras.layers import Dense, Embedding, Activation, Dropout, Flatten\n",
        "from tensorflow.keras.layers import Conv1D, MaxPooling1D, GlobalMaxPool1D, GlobalAveragePooling1D, LSTM, Bidirectional\n",
        "from tensorflow.python.client import device_lib\n",
        "# from scikeras.wrappers import KerasClassifier\n",
        "from sklearn.model_selection import GridSearchCV\n",
        "import plotly.graph_objs as go\n",
        "from plotly.subplots import make_subplots\n",
        "%matplotlib inline\n",
        "from plotly.offline import init_notebook_mode, iplot\n",
        "from keras.layers import Bidirectional\n",
        "from sklearn.metrics import f1_score, accuracy_score,confusion_matrix,classification_report\n",
        "import spacy,string\n",
        "import tqdm\n",
        "tqdm.tqdm.pandas()"
      ],
      "metadata": {
        "execution": {
          "iopub.status.busy": "2024-07-16T18:26:58.149101Z",
          "iopub.execute_input": "2024-07-16T18:26:58.149576Z",
          "iopub.status.idle": "2024-07-16T18:26:58.165181Z",
          "shell.execute_reply.started": "2024-07-16T18:26:58.149526Z",
          "shell.execute_reply": "2024-07-16T18:26:58.164070Z"
        },
        "editable": false,
        "trusted": true,
        "id": "we2U6cl7QodN"
      },
      "execution_count": null,
      "outputs": []
    },
    {
      "cell_type": "code",
      "source": [
        "import warnings\n",
        "warnings.filterwarnings(\"ignore\")"
      ],
      "metadata": {
        "execution": {
          "iopub.status.busy": "2024-07-16T18:26:59.857576Z",
          "iopub.execute_input": "2024-07-16T18:26:59.857961Z",
          "iopub.status.idle": "2024-07-16T18:26:59.862396Z",
          "shell.execute_reply.started": "2024-07-16T18:26:59.857930Z",
          "shell.execute_reply": "2024-07-16T18:26:59.861358Z"
        },
        "editable": false,
        "trusted": true,
        "id": "VfjgY8DAQodN"
      },
      "execution_count": null,
      "outputs": []
    },
    {
      "cell_type": "code",
      "source": [
        "df = pd.read_csv(\"/content/drive/MyDrive/project2/train_data.csv\")\n",
        "df= df.sample(frac=1)[['reviewText','summary','overall']]\n",
        "df.shape"
      ],
      "metadata": {
        "execution": {
          "iopub.status.busy": "2024-07-16T18:27:00.197281Z",
          "iopub.execute_input": "2024-07-16T18:27:00.198158Z",
          "iopub.status.idle": "2024-07-16T18:27:10.010377Z",
          "shell.execute_reply.started": "2024-07-16T18:27:00.198125Z",
          "shell.execute_reply": "2024-07-16T18:27:10.009369Z"
        },
        "editable": false,
        "trusted": true,
        "id": "nVosOsnoQodO",
        "outputId": "8ab39a9d-2c8f-4a79-f642-96c86cf719a0",
        "colab": {
          "base_uri": "https://localhost:8080/"
        }
      },
      "execution_count": null,
      "outputs": [
        {
          "output_type": "execute_result",
          "data": {
            "text/plain": [
              "(838944, 3)"
            ]
          },
          "metadata": {},
          "execution_count": 13
        }
      ]
    },
    {
      "cell_type": "code",
      "source": [
        "# df_5=df[df['overall']==5]\n",
        "# other_df =df[df['overall']!=5]\n",
        "# df=pd.concat([df_5[:20000],other_df],axis=0)\n",
        "# df"
      ],
      "metadata": {
        "execution": {
          "iopub.status.busy": "2024-07-16T18:27:10.012690Z",
          "iopub.execute_input": "2024-07-16T18:27:10.013103Z",
          "iopub.status.idle": "2024-07-16T18:27:10.017757Z",
          "shell.execute_reply.started": "2024-07-16T18:27:10.013069Z",
          "shell.execute_reply": "2024-07-16T18:27:10.016750Z"
        },
        "editable": false,
        "trusted": true,
        "id": "igu6LgLAQodP"
      },
      "execution_count": null,
      "outputs": []
    },
    {
      "cell_type": "code",
      "source": [
        "# from transformers import *  # this is HuggingFace library\n",
        "# import tensorflow as tf\n",
        "# from transformers import BertTokenizer, TFBertModel, BertConfig"
      ],
      "metadata": {
        "execution": {
          "iopub.status.busy": "2024-07-16T18:27:10.019239Z",
          "iopub.execute_input": "2024-07-16T18:27:10.020090Z",
          "iopub.status.idle": "2024-07-16T18:27:10.028941Z",
          "shell.execute_reply.started": "2024-07-16T18:27:10.020053Z",
          "shell.execute_reply": "2024-07-16T18:27:10.027971Z"
        },
        "editable": false,
        "trusted": true,
        "id": "fXgp_u-bQodQ"
      },
      "execution_count": null,
      "outputs": []
    },
    {
      "cell_type": "code",
      "source": [
        "# bert_tokenizer = BertTokenizer.from_pretrained(\"bert-base-uncased\")\n",
        "# config = BertConfig.from_pretrained(\"bert-base-uncased\",output_hidden_states=False)\n",
        "# bert_model = TFBertModel.from_pretrained('bert-base-uncased', config=config)"
      ],
      "metadata": {
        "execution": {
          "iopub.status.busy": "2024-07-16T18:27:10.030927Z",
          "iopub.execute_input": "2024-07-16T18:27:10.032794Z",
          "iopub.status.idle": "2024-07-16T18:27:10.039969Z",
          "shell.execute_reply.started": "2024-07-16T18:27:10.032768Z",
          "shell.execute_reply": "2024-07-16T18:27:10.038970Z"
        },
        "editable": false,
        "trusted": true,
        "id": "sML1UA83QodQ"
      },
      "execution_count": null,
      "outputs": []
    },
    {
      "cell_type": "code",
      "source": [
        "column ='overall'\n",
        "colors = ['#581845','#C70039','#2E4053','#1ABC9C','#7F8C8D']\n",
        "fig = make_subplots(rows=1,cols=2,\n",
        "                    subplot_titles=('Countplot','Percentages'),\n",
        "                    specs=[[{\"type\": \"xy\"}, {'type':'domain'}]])\n",
        "\n",
        "fig.add_trace(go.Bar( y = df[column].value_counts().values.tolist(),\n",
        "                  x = [str(i) for i in df[column].value_counts().index],\n",
        "                  text = df[column].value_counts().values.tolist(),\n",
        "                  textfont = dict(size=15),\n",
        "                  name = column,\n",
        "                  textposition = 'auto',\n",
        "                  showlegend=False,\n",
        "                  marker=dict(color = colors,\n",
        "                              line=dict(color='#DBE6EC',\n",
        "                                        width=1))),\n",
        "          row = 1, col = 1)\n",
        "\n",
        "fig.add_trace(go.Pie(labels= df[column].value_counts().keys(),\n",
        "                     values= df[column].value_counts().values,\n",
        "                     textfont = dict(size = 20),\n",
        "                     textposition='auto',\n",
        "                     showlegend = False,\n",
        "                     name = column,\n",
        "                     marker=dict(colors=colors)),\n",
        "              row = 1, col = 2)\n",
        "\n",
        "\n",
        "fig.update_layout(title={'text': column,\n",
        "                         'y':0.5,\n",
        "                         'x':.5,\n",
        "                         'xanchor': 'center',\n",
        "                         'yanchor': 'bottom'},\n",
        "                  template='plotly_white')\n",
        "\n",
        "iplot(fig)"
      ],
      "metadata": {
        "execution": {
          "iopub.status.busy": "2024-07-16T18:27:10.041276Z",
          "iopub.execute_input": "2024-07-16T18:27:10.041601Z",
          "iopub.status.idle": "2024-07-16T18:27:10.166950Z",
          "shell.execute_reply.started": "2024-07-16T18:27:10.041575Z",
          "shell.execute_reply": "2024-07-16T18:27:10.166006Z"
        },
        "editable": false,
        "trusted": true,
        "id": "FCBIP9v2QodQ",
        "outputId": "11faae06-2380-458f-9347-6f8c03c4edca",
        "colab": {
          "base_uri": "https://localhost:8080/",
          "height": 542
        }
      },
      "execution_count": null,
      "outputs": [
        {
          "output_type": "display_data",
          "data": {
            "text/html": [
              "<html>\n",
              "<head><meta charset=\"utf-8\" /></head>\n",
              "<body>\n",
              "    <div>            <script src=\"https://cdnjs.cloudflare.com/ajax/libs/mathjax/2.7.5/MathJax.js?config=TeX-AMS-MML_SVG\"></script><script type=\"text/javascript\">if (window.MathJax && window.MathJax.Hub && window.MathJax.Hub.Config) {window.MathJax.Hub.Config({SVG: {font: \"STIX-Web\"}});}</script>                <script type=\"text/javascript\">window.PlotlyConfig = {MathJaxConfig: 'local'};</script>\n",
              "        <script charset=\"utf-8\" src=\"https://cdn.plot.ly/plotly-2.24.1.min.js\"></script>                <div id=\"cbfa2ffd-014a-4f26-beee-2fdb83179af1\" class=\"plotly-graph-div\" style=\"height:525px; width:100%;\"></div>            <script type=\"text/javascript\">                                    window.PLOTLYENV=window.PLOTLYENV || {};                                    if (document.getElementById(\"cbfa2ffd-014a-4f26-beee-2fdb83179af1\")) {                    Plotly.newPlot(                        \"cbfa2ffd-014a-4f26-beee-2fdb83179af1\",                        [{\"marker\":{\"color\":[\"#581845\",\"#C70039\",\"#2E4053\",\"#1ABC9C\",\"#7F8C8D\"],\"line\":{\"color\":\"#DBE6EC\",\"width\":1}},\"name\":\"overall\",\"showlegend\":false,\"text\":[\"461485\",\"156514\",\"82950\",\"81239\",\"56756\"],\"textfont\":{\"size\":15},\"textposition\":\"auto\",\"x\":[\"5\",\"4\",\"1\",\"3\",\"2\"],\"xaxis\":\"x\",\"y\":[461485,156514,82950,81239,56756],\"yaxis\":\"y\",\"type\":\"bar\"},{\"domain\":{\"x\":[0.55,1.0],\"y\":[0.0,1.0]},\"labels\":[5,4,1,3,2],\"marker\":{\"colors\":[\"#581845\",\"#C70039\",\"#2E4053\",\"#1ABC9C\",\"#7F8C8D\"]},\"name\":\"overall\",\"showlegend\":false,\"textfont\":{\"size\":20},\"textposition\":\"auto\",\"values\":[461485,156514,82950,81239,56756],\"type\":\"pie\"}],                        {\"annotations\":[{\"font\":{\"size\":16},\"showarrow\":false,\"text\":\"Countplot\",\"x\":0.225,\"xanchor\":\"center\",\"xref\":\"paper\",\"y\":1.0,\"yanchor\":\"bottom\",\"yref\":\"paper\"},{\"font\":{\"size\":16},\"showarrow\":false,\"text\":\"Percentages\",\"x\":0.775,\"xanchor\":\"center\",\"xref\":\"paper\",\"y\":1.0,\"yanchor\":\"bottom\",\"yref\":\"paper\"}],\"template\":{\"data\":{\"barpolar\":[{\"marker\":{\"line\":{\"color\":\"white\",\"width\":0.5},\"pattern\":{\"fillmode\":\"overlay\",\"size\":10,\"solidity\":0.2}},\"type\":\"barpolar\"}],\"bar\":[{\"error_x\":{\"color\":\"#2a3f5f\"},\"error_y\":{\"color\":\"#2a3f5f\"},\"marker\":{\"line\":{\"color\":\"white\",\"width\":0.5},\"pattern\":{\"fillmode\":\"overlay\",\"size\":10,\"solidity\":0.2}},\"type\":\"bar\"}],\"carpet\":[{\"aaxis\":{\"endlinecolor\":\"#2a3f5f\",\"gridcolor\":\"#C8D4E3\",\"linecolor\":\"#C8D4E3\",\"minorgridcolor\":\"#C8D4E3\",\"startlinecolor\":\"#2a3f5f\"},\"baxis\":{\"endlinecolor\":\"#2a3f5f\",\"gridcolor\":\"#C8D4E3\",\"linecolor\":\"#C8D4E3\",\"minorgridcolor\":\"#C8D4E3\",\"startlinecolor\":\"#2a3f5f\"},\"type\":\"carpet\"}],\"choropleth\":[{\"colorbar\":{\"outlinewidth\":0,\"ticks\":\"\"},\"type\":\"choropleth\"}],\"contourcarpet\":[{\"colorbar\":{\"outlinewidth\":0,\"ticks\":\"\"},\"type\":\"contourcarpet\"}],\"contour\":[{\"colorbar\":{\"outlinewidth\":0,\"ticks\":\"\"},\"colorscale\":[[0.0,\"#0d0887\"],[0.1111111111111111,\"#46039f\"],[0.2222222222222222,\"#7201a8\"],[0.3333333333333333,\"#9c179e\"],[0.4444444444444444,\"#bd3786\"],[0.5555555555555556,\"#d8576b\"],[0.6666666666666666,\"#ed7953\"],[0.7777777777777778,\"#fb9f3a\"],[0.8888888888888888,\"#fdca26\"],[1.0,\"#f0f921\"]],\"type\":\"contour\"}],\"heatmapgl\":[{\"colorbar\":{\"outlinewidth\":0,\"ticks\":\"\"},\"colorscale\":[[0.0,\"#0d0887\"],[0.1111111111111111,\"#46039f\"],[0.2222222222222222,\"#7201a8\"],[0.3333333333333333,\"#9c179e\"],[0.4444444444444444,\"#bd3786\"],[0.5555555555555556,\"#d8576b\"],[0.6666666666666666,\"#ed7953\"],[0.7777777777777778,\"#fb9f3a\"],[0.8888888888888888,\"#fdca26\"],[1.0,\"#f0f921\"]],\"type\":\"heatmapgl\"}],\"heatmap\":[{\"colorbar\":{\"outlinewidth\":0,\"ticks\":\"\"},\"colorscale\":[[0.0,\"#0d0887\"],[0.1111111111111111,\"#46039f\"],[0.2222222222222222,\"#7201a8\"],[0.3333333333333333,\"#9c179e\"],[0.4444444444444444,\"#bd3786\"],[0.5555555555555556,\"#d8576b\"],[0.6666666666666666,\"#ed7953\"],[0.7777777777777778,\"#fb9f3a\"],[0.8888888888888888,\"#fdca26\"],[1.0,\"#f0f921\"]],\"type\":\"heatmap\"}],\"histogram2dcontour\":[{\"colorbar\":{\"outlinewidth\":0,\"ticks\":\"\"},\"colorscale\":[[0.0,\"#0d0887\"],[0.1111111111111111,\"#46039f\"],[0.2222222222222222,\"#7201a8\"],[0.3333333333333333,\"#9c179e\"],[0.4444444444444444,\"#bd3786\"],[0.5555555555555556,\"#d8576b\"],[0.6666666666666666,\"#ed7953\"],[0.7777777777777778,\"#fb9f3a\"],[0.8888888888888888,\"#fdca26\"],[1.0,\"#f0f921\"]],\"type\":\"histogram2dcontour\"}],\"histogram2d\":[{\"colorbar\":{\"outlinewidth\":0,\"ticks\":\"\"},\"colorscale\":[[0.0,\"#0d0887\"],[0.1111111111111111,\"#46039f\"],[0.2222222222222222,\"#7201a8\"],[0.3333333333333333,\"#9c179e\"],[0.4444444444444444,\"#bd3786\"],[0.5555555555555556,\"#d8576b\"],[0.6666666666666666,\"#ed7953\"],[0.7777777777777778,\"#fb9f3a\"],[0.8888888888888888,\"#fdca26\"],[1.0,\"#f0f921\"]],\"type\":\"histogram2d\"}],\"histogram\":[{\"marker\":{\"pattern\":{\"fillmode\":\"overlay\",\"size\":10,\"solidity\":0.2}},\"type\":\"histogram\"}],\"mesh3d\":[{\"colorbar\":{\"outlinewidth\":0,\"ticks\":\"\"},\"type\":\"mesh3d\"}],\"parcoords\":[{\"line\":{\"colorbar\":{\"outlinewidth\":0,\"ticks\":\"\"}},\"type\":\"parcoords\"}],\"pie\":[{\"automargin\":true,\"type\":\"pie\"}],\"scatter3d\":[{\"line\":{\"colorbar\":{\"outlinewidth\":0,\"ticks\":\"\"}},\"marker\":{\"colorbar\":{\"outlinewidth\":0,\"ticks\":\"\"}},\"type\":\"scatter3d\"}],\"scattercarpet\":[{\"marker\":{\"colorbar\":{\"outlinewidth\":0,\"ticks\":\"\"}},\"type\":\"scattercarpet\"}],\"scattergeo\":[{\"marker\":{\"colorbar\":{\"outlinewidth\":0,\"ticks\":\"\"}},\"type\":\"scattergeo\"}],\"scattergl\":[{\"marker\":{\"colorbar\":{\"outlinewidth\":0,\"ticks\":\"\"}},\"type\":\"scattergl\"}],\"scattermapbox\":[{\"marker\":{\"colorbar\":{\"outlinewidth\":0,\"ticks\":\"\"}},\"type\":\"scattermapbox\"}],\"scatterpolargl\":[{\"marker\":{\"colorbar\":{\"outlinewidth\":0,\"ticks\":\"\"}},\"type\":\"scatterpolargl\"}],\"scatterpolar\":[{\"marker\":{\"colorbar\":{\"outlinewidth\":0,\"ticks\":\"\"}},\"type\":\"scatterpolar\"}],\"scatter\":[{\"fillpattern\":{\"fillmode\":\"overlay\",\"size\":10,\"solidity\":0.2},\"type\":\"scatter\"}],\"scatterternary\":[{\"marker\":{\"colorbar\":{\"outlinewidth\":0,\"ticks\":\"\"}},\"type\":\"scatterternary\"}],\"surface\":[{\"colorbar\":{\"outlinewidth\":0,\"ticks\":\"\"},\"colorscale\":[[0.0,\"#0d0887\"],[0.1111111111111111,\"#46039f\"],[0.2222222222222222,\"#7201a8\"],[0.3333333333333333,\"#9c179e\"],[0.4444444444444444,\"#bd3786\"],[0.5555555555555556,\"#d8576b\"],[0.6666666666666666,\"#ed7953\"],[0.7777777777777778,\"#fb9f3a\"],[0.8888888888888888,\"#fdca26\"],[1.0,\"#f0f921\"]],\"type\":\"surface\"}],\"table\":[{\"cells\":{\"fill\":{\"color\":\"#EBF0F8\"},\"line\":{\"color\":\"white\"}},\"header\":{\"fill\":{\"color\":\"#C8D4E3\"},\"line\":{\"color\":\"white\"}},\"type\":\"table\"}]},\"layout\":{\"annotationdefaults\":{\"arrowcolor\":\"#2a3f5f\",\"arrowhead\":0,\"arrowwidth\":1},\"autotypenumbers\":\"strict\",\"coloraxis\":{\"colorbar\":{\"outlinewidth\":0,\"ticks\":\"\"}},\"colorscale\":{\"diverging\":[[0,\"#8e0152\"],[0.1,\"#c51b7d\"],[0.2,\"#de77ae\"],[0.3,\"#f1b6da\"],[0.4,\"#fde0ef\"],[0.5,\"#f7f7f7\"],[0.6,\"#e6f5d0\"],[0.7,\"#b8e186\"],[0.8,\"#7fbc41\"],[0.9,\"#4d9221\"],[1,\"#276419\"]],\"sequential\":[[0.0,\"#0d0887\"],[0.1111111111111111,\"#46039f\"],[0.2222222222222222,\"#7201a8\"],[0.3333333333333333,\"#9c179e\"],[0.4444444444444444,\"#bd3786\"],[0.5555555555555556,\"#d8576b\"],[0.6666666666666666,\"#ed7953\"],[0.7777777777777778,\"#fb9f3a\"],[0.8888888888888888,\"#fdca26\"],[1.0,\"#f0f921\"]],\"sequentialminus\":[[0.0,\"#0d0887\"],[0.1111111111111111,\"#46039f\"],[0.2222222222222222,\"#7201a8\"],[0.3333333333333333,\"#9c179e\"],[0.4444444444444444,\"#bd3786\"],[0.5555555555555556,\"#d8576b\"],[0.6666666666666666,\"#ed7953\"],[0.7777777777777778,\"#fb9f3a\"],[0.8888888888888888,\"#fdca26\"],[1.0,\"#f0f921\"]]},\"colorway\":[\"#636efa\",\"#EF553B\",\"#00cc96\",\"#ab63fa\",\"#FFA15A\",\"#19d3f3\",\"#FF6692\",\"#B6E880\",\"#FF97FF\",\"#FECB52\"],\"font\":{\"color\":\"#2a3f5f\"},\"geo\":{\"bgcolor\":\"white\",\"lakecolor\":\"white\",\"landcolor\":\"white\",\"showlakes\":true,\"showland\":true,\"subunitcolor\":\"#C8D4E3\"},\"hoverlabel\":{\"align\":\"left\"},\"hovermode\":\"closest\",\"mapbox\":{\"style\":\"light\"},\"paper_bgcolor\":\"white\",\"plot_bgcolor\":\"white\",\"polar\":{\"angularaxis\":{\"gridcolor\":\"#EBF0F8\",\"linecolor\":\"#EBF0F8\",\"ticks\":\"\"},\"bgcolor\":\"white\",\"radialaxis\":{\"gridcolor\":\"#EBF0F8\",\"linecolor\":\"#EBF0F8\",\"ticks\":\"\"}},\"scene\":{\"xaxis\":{\"backgroundcolor\":\"white\",\"gridcolor\":\"#DFE8F3\",\"gridwidth\":2,\"linecolor\":\"#EBF0F8\",\"showbackground\":true,\"ticks\":\"\",\"zerolinecolor\":\"#EBF0F8\"},\"yaxis\":{\"backgroundcolor\":\"white\",\"gridcolor\":\"#DFE8F3\",\"gridwidth\":2,\"linecolor\":\"#EBF0F8\",\"showbackground\":true,\"ticks\":\"\",\"zerolinecolor\":\"#EBF0F8\"},\"zaxis\":{\"backgroundcolor\":\"white\",\"gridcolor\":\"#DFE8F3\",\"gridwidth\":2,\"linecolor\":\"#EBF0F8\",\"showbackground\":true,\"ticks\":\"\",\"zerolinecolor\":\"#EBF0F8\"}},\"shapedefaults\":{\"line\":{\"color\":\"#2a3f5f\"}},\"ternary\":{\"aaxis\":{\"gridcolor\":\"#DFE8F3\",\"linecolor\":\"#A2B1C6\",\"ticks\":\"\"},\"baxis\":{\"gridcolor\":\"#DFE8F3\",\"linecolor\":\"#A2B1C6\",\"ticks\":\"\"},\"bgcolor\":\"white\",\"caxis\":{\"gridcolor\":\"#DFE8F3\",\"linecolor\":\"#A2B1C6\",\"ticks\":\"\"}},\"title\":{\"x\":0.05},\"xaxis\":{\"automargin\":true,\"gridcolor\":\"#EBF0F8\",\"linecolor\":\"#EBF0F8\",\"ticks\":\"\",\"title\":{\"standoff\":15},\"zerolinecolor\":\"#EBF0F8\",\"zerolinewidth\":2},\"yaxis\":{\"automargin\":true,\"gridcolor\":\"#EBF0F8\",\"linecolor\":\"#EBF0F8\",\"ticks\":\"\",\"title\":{\"standoff\":15},\"zerolinecolor\":\"#EBF0F8\",\"zerolinewidth\":2}}},\"title\":{\"text\":\"overall\",\"x\":0.5,\"xanchor\":\"center\",\"y\":0.5,\"yanchor\":\"bottom\"},\"xaxis\":{\"anchor\":\"y\",\"domain\":[0.0,0.45]},\"yaxis\":{\"anchor\":\"x\",\"domain\":[0.0,1.0]}},                        {\"responsive\": true}                    ).then(function(){\n",
              "                            \n",
              "var gd = document.getElementById('cbfa2ffd-014a-4f26-beee-2fdb83179af1');\n",
              "var x = new MutationObserver(function (mutations, observer) {{\n",
              "        var display = window.getComputedStyle(gd).display;\n",
              "        if (!display || display === 'none') {{\n",
              "            console.log([gd, 'removed!']);\n",
              "            Plotly.purge(gd);\n",
              "            observer.disconnect();\n",
              "        }}\n",
              "}});\n",
              "\n",
              "// Listen for the removal of the full notebook cells\n",
              "var notebookContainer = gd.closest('#notebook-container');\n",
              "if (notebookContainer) {{\n",
              "    x.observe(notebookContainer, {childList: true});\n",
              "}}\n",
              "\n",
              "// Listen for the clearing of the current output cell\n",
              "var outputEl = gd.closest('.output');\n",
              "if (outputEl) {{\n",
              "    x.observe(outputEl, {childList: true});\n",
              "}}\n",
              "\n",
              "                        })                };                            </script>        </div>\n",
              "</body>\n",
              "</html>"
            ]
          },
          "metadata": {}
        }
      ]
    },
    {
      "cell_type": "code",
      "source": [
        "\n",
        "\n",
        "import nltk\n",
        "from nltk.corpus import stopwords\n",
        "\n",
        "nltk.download('stopwords')\n",
        "print(stopwords.words('english'))\n",
        "REPLACE_BY_SPACE_RE = re.compile('[/(){}\\[\\]\\|@,;]')\n",
        "BAD_SYMBOLS_RE = re.compile('[^0-9a-z #+_]')\n",
        "STOPWORDS = set(stopwords.words('english'))\n",
        "\n",
        "def clean_text(text):\n",
        "    \"\"\"\n",
        "        text: a string\n",
        "\n",
        "        return: modified initial string\n",
        "    \"\"\"\n",
        "    text = text.lower() # lowercase text\n",
        "    text = REPLACE_BY_SPACE_RE.sub(' ', text) # replace REPLACE_BY_SPACE_RE symbols by space in text. substitute the matched string in REPLACE_BY_SPACE_RE with space.\n",
        "    text = BAD_SYMBOLS_RE.sub('', text) # remove symbols which are in BAD_SYMBOLS_RE from text. substitute the matched string in BAD_SYMBOLS_RE with nothing.\n",
        "    text = text.replace('x', '')\n",
        "#    text = re.sub(r'\\W+', '', text)\n",
        "    text = ' '.join(word for word in text.split() if word not in STOPWORDS) # remove stopwors from text\n",
        "    return text"
      ],
      "metadata": {
        "execution": {
          "iopub.status.busy": "2024-07-16T18:27:26.755094Z",
          "iopub.execute_input": "2024-07-16T18:27:26.755941Z",
          "iopub.status.idle": "2024-07-16T18:27:26.765600Z",
          "shell.execute_reply.started": "2024-07-16T18:27:26.755908Z",
          "shell.execute_reply": "2024-07-16T18:27:26.764510Z"
        },
        "editable": false,
        "trusted": true,
        "id": "mnDglcnYQodT",
        "outputId": "b1831c27-9d21-4a3b-b5e2-f8fd97ba73a7",
        "colab": {
          "base_uri": "https://localhost:8080/"
        }
      },
      "execution_count": null,
      "outputs": [
        {
          "output_type": "stream",
          "name": "stderr",
          "text": [
            "[nltk_data] Downloading package stopwords to /root/nltk_data...\n",
            "[nltk_data]   Unzipping corpora/stopwords.zip.\n"
          ]
        },
        {
          "output_type": "stream",
          "name": "stdout",
          "text": [
            "['i', 'me', 'my', 'myself', 'we', 'our', 'ours', 'ourselves', 'you', \"you're\", \"you've\", \"you'll\", \"you'd\", 'your', 'yours', 'yourself', 'yourselves', 'he', 'him', 'his', 'himself', 'she', \"she's\", 'her', 'hers', 'herself', 'it', \"it's\", 'its', 'itself', 'they', 'them', 'their', 'theirs', 'themselves', 'what', 'which', 'who', 'whom', 'this', 'that', \"that'll\", 'these', 'those', 'am', 'is', 'are', 'was', 'were', 'be', 'been', 'being', 'have', 'has', 'had', 'having', 'do', 'does', 'did', 'doing', 'a', 'an', 'the', 'and', 'but', 'if', 'or', 'because', 'as', 'until', 'while', 'of', 'at', 'by', 'for', 'with', 'about', 'against', 'between', 'into', 'through', 'during', 'before', 'after', 'above', 'below', 'to', 'from', 'up', 'down', 'in', 'out', 'on', 'off', 'over', 'under', 'again', 'further', 'then', 'once', 'here', 'there', 'when', 'where', 'why', 'how', 'all', 'any', 'both', 'each', 'few', 'more', 'most', 'other', 'some', 'such', 'no', 'nor', 'not', 'only', 'own', 'same', 'so', 'than', 'too', 'very', 's', 't', 'can', 'will', 'just', 'don', \"don't\", 'should', \"should've\", 'now', 'd', 'll', 'm', 'o', 're', 've', 'y', 'ain', 'aren', \"aren't\", 'couldn', \"couldn't\", 'didn', \"didn't\", 'doesn', \"doesn't\", 'hadn', \"hadn't\", 'hasn', \"hasn't\", 'haven', \"haven't\", 'isn', \"isn't\", 'ma', 'mightn', \"mightn't\", 'mustn', \"mustn't\", 'needn', \"needn't\", 'shan', \"shan't\", 'shouldn', \"shouldn't\", 'wasn', \"wasn't\", 'weren', \"weren't\", 'won', \"won't\", 'wouldn', \"wouldn't\"]\n"
          ]
        }
      ]
    },
    {
      "cell_type": "code",
      "source": [
        "df['summary']=df['summary'].astype(str)"
      ],
      "metadata": {
        "execution": {
          "iopub.status.busy": "2024-07-16T18:27:32.869930Z",
          "iopub.execute_input": "2024-07-16T18:27:32.870741Z",
          "iopub.status.idle": "2024-07-16T18:27:32.954638Z",
          "shell.execute_reply.started": "2024-07-16T18:27:32.870705Z",
          "shell.execute_reply": "2024-07-16T18:27:32.953700Z"
        },
        "editable": false,
        "trusted": true,
        "id": "vu-u1o-vQodU"
      },
      "execution_count": null,
      "outputs": []
    },
    {
      "cell_type": "code",
      "source": [
        "df['review_clean'] = df['reviewText'].progress_apply(clean_text)\n",
        "df['summary_clean'] = df['summary'].progress_apply(clean_text)"
      ],
      "metadata": {
        "execution": {
          "iopub.status.busy": "2024-07-16T18:27:34.949964Z",
          "iopub.execute_input": "2024-07-16T18:27:34.951132Z",
          "iopub.status.idle": "2024-07-16T18:28:32.491731Z",
          "shell.execute_reply.started": "2024-07-16T18:27:34.951088Z",
          "shell.execute_reply": "2024-07-16T18:28:32.490696Z"
        },
        "editable": false,
        "trusted": true,
        "id": "ea-t_-fmQodV",
        "outputId": "e95927ff-58aa-47bf-bdee-cf2917ced5f9",
        "colab": {
          "base_uri": "https://localhost:8080/"
        }
      },
      "execution_count": null,
      "outputs": [
        {
          "output_type": "stream",
          "name": "stderr",
          "text": [
            "100%|██████████| 838944/838944 [01:04<00:00, 12996.38it/s]\n",
            "100%|██████████| 838944/838944 [00:03<00:00, 235081.36it/s]\n"
          ]
        }
      ]
    },
    {
      "cell_type": "code",
      "source": [
        "# df.to_csv('/kaggle/working/clean_train.csv',encoding='utf-8')"
      ],
      "metadata": {
        "execution": {
          "iopub.status.busy": "2024-07-16T18:28:35.095114Z",
          "iopub.execute_input": "2024-07-16T18:28:35.096015Z",
          "iopub.status.idle": "2024-07-16T18:28:35.100264Z",
          "shell.execute_reply.started": "2024-07-16T18:28:35.095979Z",
          "shell.execute_reply": "2024-07-16T18:28:35.099004Z"
        },
        "editable": false,
        "trusted": true,
        "id": "_2jZvBiUQodW"
      },
      "execution_count": null,
      "outputs": []
    },
    {
      "cell_type": "code",
      "source": [
        "df['total_text']=df['summary']+'.'+df['review_clean']\n",
        "# df['total_text']=df['review_clean']\n",
        "\n",
        "# sentences = df['total_text']\n",
        "c"
      ],
      "metadata": {
        "execution": {
          "iopub.status.busy": "2024-07-16T18:28:35.311138Z",
          "iopub.execute_input": "2024-07-16T18:28:35.312096Z",
          "iopub.status.idle": "2024-07-16T18:28:36.023904Z",
          "shell.execute_reply.started": "2024-07-16T18:28:35.312062Z",
          "shell.execute_reply": "2024-07-16T18:28:36.022855Z"
        },
        "editable": false,
        "trusted": true,
        "id": "NJEKJ5T1QodW",
        "outputId": "55bdc3b5-7694-4458-93cb-fb43c6b8dec8",
        "colab": {
          "base_uri": "https://localhost:8080/"
        }
      },
      "execution_count": null,
      "outputs": [
        {
          "output_type": "execute_result",
          "data": {
            "text/plain": [
              "699277    I received these today and they sound fantasti...\n",
              "88767     The speakers are Great and reproduce quality s...\n",
              "501031    Equipment formats the card into fat16, complet...\n",
              "591015    I love the color.bought ipod son sending one b...\n",
              "82300     Love it mainly for the inexpensive price.love ...\n",
              "                                ...                        \n",
              "466539    Love it! Easy to install, sturdy, well-designe...\n",
              "427732    Worth every penny.ordered one last ipad well m...\n",
              "784993    Good Throughput, But Drop The UTM Services.one...\n",
              "428609    Improved over gen 1, great sound..heos 3 gen 1...\n",
              "734219    did not work for my usb mouse to PS2 mouse por...\n",
              "Name: total_text, Length: 838944, dtype: object"
            ]
          },
          "metadata": {},
          "execution_count": 33
        }
      ]
    },
    {
      "cell_type": "code",
      "source": [
        "target = np.array(pd.get_dummies(df['overall']))"
      ],
      "metadata": {
        "execution": {
          "iopub.status.busy": "2024-07-16T18:21:10.533310Z",
          "iopub.execute_input": "2024-07-16T18:21:10.533745Z",
          "iopub.status.idle": "2024-07-16T18:21:10.561742Z",
          "shell.execute_reply.started": "2024-07-16T18:21:10.533707Z",
          "shell.execute_reply": "2024-07-16T18:21:10.560783Z"
        },
        "editable": false,
        "trusted": true,
        "id": "XbxjpSosQodW"
      },
      "execution_count": null,
      "outputs": []
    },
    {
      "cell_type": "markdown",
      "source": [
        "**Bert**"
      ],
      "metadata": {
        "editable": false,
        "id": "K0c2M8r5Qod7"
      }
    },
    {
      "cell_type": "code",
      "source": [
        "import pandas as pd\n",
        "import gzip\n",
        "from sklearn.model_selection import train_test_split\n",
        "import matplotlib.pyplot as plt\n",
        "from transformers import BertTokenizerFast, BertForSequenceClassification, Trainer, TrainingArguments\n",
        "from transformers import AutoTokenizer, AutoModelForSequenceClassification\n",
        "from datasets import Dataset\n",
        "import torch\n",
        "import numpy as np"
      ],
      "metadata": {
        "execution": {
          "iopub.status.busy": "2024-07-16T18:29:57.092659Z",
          "iopub.execute_input": "2024-07-16T18:29:57.093307Z",
          "iopub.status.idle": "2024-07-16T18:29:57.098902Z",
          "shell.execute_reply.started": "2024-07-16T18:29:57.093273Z",
          "shell.execute_reply": "2024-07-16T18:29:57.097772Z"
        },
        "editable": false,
        "trusted": true,
        "id": "t_OkpChWQod8"
      },
      "execution_count": null,
      "outputs": []
    },
    {
      "cell_type": "code",
      "source": [
        "new_df= df"
      ],
      "metadata": {
        "execution": {
          "iopub.status.busy": "2024-07-16T18:29:58.773907Z",
          "iopub.execute_input": "2024-07-16T18:29:58.774307Z",
          "iopub.status.idle": "2024-07-16T18:29:58.779000Z",
          "shell.execute_reply.started": "2024-07-16T18:29:58.774274Z",
          "shell.execute_reply": "2024-07-16T18:29:58.777990Z"
        },
        "editable": false,
        "trusted": true,
        "id": "dYTbmS2PQod8"
      },
      "execution_count": null,
      "outputs": []
    },
    {
      "cell_type": "code",
      "source": [
        "new_df.dropna(subset=['reviewText', 'overall'], inplace=True)\n",
        "new_df['overall'] = new_df['overall'] - 1"
      ],
      "metadata": {
        "execution": {
          "iopub.status.busy": "2024-07-16T18:30:02.746716Z",
          "iopub.execute_input": "2024-07-16T18:30:02.747107Z",
          "iopub.status.idle": "2024-07-16T18:30:03.592251Z",
          "shell.execute_reply.started": "2024-07-16T18:30:02.747076Z",
          "shell.execute_reply": "2024-07-16T18:30:03.591387Z"
        },
        "editable": false,
        "trusted": true,
        "id": "PB1koBPGQod8"
      },
      "execution_count": null,
      "outputs": []
    },
    {
      "cell_type": "code",
      "source": [
        "new_df.overall.value_counts()"
      ],
      "metadata": {
        "execution": {
          "iopub.status.busy": "2024-07-16T18:30:06.373901Z",
          "iopub.execute_input": "2024-07-16T18:30:06.374624Z",
          "iopub.status.idle": "2024-07-16T18:30:06.389622Z",
          "shell.execute_reply.started": "2024-07-16T18:30:06.374577Z",
          "shell.execute_reply": "2024-07-16T18:30:06.388601Z"
        },
        "editable": false,
        "trusted": true,
        "id": "C11UXdoKQod8",
        "outputId": "72f05289-89b1-4a74-e7aa-37c61bddea4e"
      },
      "execution_count": null,
      "outputs": [
        {
          "execution_count": 88,
          "output_type": "execute_result",
          "data": {
            "text/plain": "overall\n4    461485\n3    156514\n0     82950\n2     81239\n1     56756\nName: count, dtype: int64"
          },
          "metadata": {}
        }
      ]
    },
    {
      "cell_type": "code",
      "source": [
        "df_test = new_df[['total_text','overall']].iloc[:50000, :].reset_index(drop=True)\n",
        "df_test.rename({'total_text':'text','overall':'label'},axis=1,inplace=True)\n",
        "df_train = new_df[['total_text','overall']].iloc[50000:, :].reset_index(drop=True)\n",
        "df_train.rename({'total_text':'text','overall':'label'},axis=1,inplace=True)"
      ],
      "metadata": {
        "execution": {
          "iopub.status.busy": "2024-07-16T18:30:13.942829Z",
          "iopub.execute_input": "2024-07-16T18:30:13.943461Z",
          "iopub.status.idle": "2024-07-16T18:30:14.046340Z",
          "shell.execute_reply.started": "2024-07-16T18:30:13.943429Z",
          "shell.execute_reply": "2024-07-16T18:30:14.045259Z"
        },
        "editable": false,
        "trusted": true,
        "id": "bHLcdruFQod9"
      },
      "execution_count": null,
      "outputs": []
    },
    {
      "cell_type": "code",
      "source": [
        "train_dataset = Dataset.from_pandas(df_train)\n",
        "test_dataset = Dataset.from_pandas(df_test)"
      ],
      "metadata": {
        "execution": {
          "iopub.status.busy": "2024-07-16T18:30:16.882834Z",
          "iopub.execute_input": "2024-07-16T18:30:16.883215Z",
          "iopub.status.idle": "2024-07-16T18:30:19.569717Z",
          "shell.execute_reply.started": "2024-07-16T18:30:16.883170Z",
          "shell.execute_reply": "2024-07-16T18:30:19.568566Z"
        },
        "editable": false,
        "trusted": true,
        "id": "y236RbZQQod9"
      },
      "execution_count": null,
      "outputs": []
    },
    {
      "cell_type": "code",
      "source": [
        "train_dataset"
      ],
      "metadata": {
        "execution": {
          "iopub.status.busy": "2024-07-16T18:30:21.278872Z",
          "iopub.execute_input": "2024-07-16T18:30:21.279789Z",
          "iopub.status.idle": "2024-07-16T18:30:21.286051Z",
          "shell.execute_reply.started": "2024-07-16T18:30:21.279756Z",
          "shell.execute_reply": "2024-07-16T18:30:21.285016Z"
        },
        "editable": false,
        "trusted": true,
        "id": "MUbPZ6_MQod9",
        "outputId": "19032d8d-1a32-4b2f-a68d-37eb514f0963"
      },
      "execution_count": null,
      "outputs": [
        {
          "execution_count": 91,
          "output_type": "execute_result",
          "data": {
            "text/plain": "Dataset({\n    features: ['text', 'label'],\n    num_rows: 788944\n})"
          },
          "metadata": {}
        }
      ]
    },
    {
      "cell_type": "code",
      "source": [
        "test_dataset"
      ],
      "metadata": {
        "execution": {
          "iopub.status.busy": "2024-07-16T18:30:27.630257Z",
          "iopub.execute_input": "2024-07-16T18:30:27.630967Z",
          "iopub.status.idle": "2024-07-16T18:30:27.637779Z",
          "shell.execute_reply.started": "2024-07-16T18:30:27.630932Z",
          "shell.execute_reply": "2024-07-16T18:30:27.636642Z"
        },
        "editable": false,
        "trusted": true,
        "id": "R5PQ6IgyQod9",
        "outputId": "4992f54c-a215-43e8-820a-0f205f9e77e0"
      },
      "execution_count": null,
      "outputs": [
        {
          "execution_count": 92,
          "output_type": "execute_result",
          "data": {
            "text/plain": "Dataset({\n    features: ['text', 'label'],\n    num_rows: 50000\n})"
          },
          "metadata": {}
        }
      ]
    },
    {
      "cell_type": "code",
      "source": [
        "tokenizer = AutoTokenizer.from_pretrained('bert-base-uncased')\n",
        "\n",
        "def tokenize(batch):\n",
        "#     tokenized_inputs =tokenizer(batch['text'],  truncation=True, padding='max_length', max_length=512, return_tensors='pt')\n",
        "    tokenized_inputs =tokenizer(batch['text'],  truncation=True,padding='max_length', max_length=100)\n",
        "\n",
        "    tokenized_inputs['labels']=torch.tensor(batch['label'])\n",
        "    return tokenized_inputs\n",
        "\n",
        "\n",
        "# def preprocess_function(examples):\n",
        "#     return tokenizer(examples[\"text\"], truncation=True)\n",
        "\n",
        "tokenized_train = train_dataset.map(tokenize, batched=True)\n",
        "tokenized_test = test_dataset.map(tokenize, batched=True)"
      ],
      "metadata": {
        "execution": {
          "iopub.status.busy": "2024-07-16T18:35:01.552997Z",
          "iopub.execute_input": "2024-07-16T18:35:01.553770Z",
          "iopub.status.idle": "2024-07-16T18:38:06.691506Z",
          "shell.execute_reply.started": "2024-07-16T18:35:01.553737Z",
          "shell.execute_reply": "2024-07-16T18:38:06.690515Z"
        },
        "editable": false,
        "trusted": true,
        "colab": {
          "referenced_widgets": [
            "49fd7c7cd5664802a505be9cb9a775ba",
            "d87cbf9b56034f918f55cc27c4fcd992",
            "0a9403ef3e504607b48f2f86ab87476a",
            "beb6b3f3fedd4030b4c6e2507f393f77",
            "2e6776b6af0846eebfccb336642ba40d",
            "27059d85dc4c4292993bca05167be32b"
          ]
        },
        "id": "78BlswfTQod-",
        "outputId": "461c02ef-b62b-429f-ad54-f4d14cf85228"
      },
      "execution_count": null,
      "outputs": [
        {
          "output_type": "display_data",
          "data": {
            "text/plain": "tokenizer_config.json:   0%|          | 0.00/48.0 [00:00<?, ?B/s]",
            "application/vnd.jupyter.widget-view+json": {
              "version_major": 2,
              "version_minor": 0,
              "model_id": "49fd7c7cd5664802a505be9cb9a775ba"
            }
          },
          "metadata": {}
        },
        {
          "output_type": "display_data",
          "data": {
            "text/plain": "config.json:   0%|          | 0.00/570 [00:00<?, ?B/s]",
            "application/vnd.jupyter.widget-view+json": {
              "version_major": 2,
              "version_minor": 0,
              "model_id": "d87cbf9b56034f918f55cc27c4fcd992"
            }
          },
          "metadata": {}
        },
        {
          "output_type": "display_data",
          "data": {
            "text/plain": "vocab.txt:   0%|          | 0.00/232k [00:00<?, ?B/s]",
            "application/vnd.jupyter.widget-view+json": {
              "version_major": 2,
              "version_minor": 0,
              "model_id": "0a9403ef3e504607b48f2f86ab87476a"
            }
          },
          "metadata": {}
        },
        {
          "output_type": "display_data",
          "data": {
            "text/plain": "tokenizer.json:   0%|          | 0.00/466k [00:00<?, ?B/s]",
            "application/vnd.jupyter.widget-view+json": {
              "version_major": 2,
              "version_minor": 0,
              "model_id": "beb6b3f3fedd4030b4c6e2507f393f77"
            }
          },
          "metadata": {}
        },
        {
          "output_type": "display_data",
          "data": {
            "text/plain": "Map:   0%|          | 0/788944 [00:00<?, ? examples/s]",
            "application/vnd.jupyter.widget-view+json": {
              "version_major": 2,
              "version_minor": 0,
              "model_id": "2e6776b6af0846eebfccb336642ba40d"
            }
          },
          "metadata": {}
        },
        {
          "output_type": "display_data",
          "data": {
            "text/plain": "Map:   0%|          | 0/50000 [00:00<?, ? examples/s]",
            "application/vnd.jupyter.widget-view+json": {
              "version_major": 2,
              "version_minor": 0,
              "model_id": "27059d85dc4c4292993bca05167be32b"
            }
          },
          "metadata": {}
        }
      ]
    },
    {
      "cell_type": "code",
      "source": [
        "tokenized_train"
      ],
      "metadata": {
        "execution": {
          "iopub.status.busy": "2024-07-16T18:38:13.026749Z",
          "iopub.execute_input": "2024-07-16T18:38:13.027396Z",
          "iopub.status.idle": "2024-07-16T18:38:13.033645Z",
          "shell.execute_reply.started": "2024-07-16T18:38:13.027359Z",
          "shell.execute_reply": "2024-07-16T18:38:13.032775Z"
        },
        "editable": false,
        "trusted": true,
        "id": "rVHhvmnoQod-",
        "outputId": "348d8cd5-f825-4739-c704-4e5a56fef0cf"
      },
      "execution_count": null,
      "outputs": [
        {
          "execution_count": 94,
          "output_type": "execute_result",
          "data": {
            "text/plain": "Dataset({\n    features: ['text', 'label', 'input_ids', 'token_type_ids', 'attention_mask', 'labels'],\n    num_rows: 788944\n})"
          },
          "metadata": {}
        }
      ]
    },
    {
      "cell_type": "code",
      "source": [
        "from transformers import DataCollatorWithPadding"
      ],
      "metadata": {
        "execution": {
          "iopub.status.busy": "2024-07-16T18:38:15.838436Z",
          "iopub.execute_input": "2024-07-16T18:38:15.839334Z",
          "iopub.status.idle": "2024-07-16T18:38:15.843951Z",
          "shell.execute_reply.started": "2024-07-16T18:38:15.839289Z",
          "shell.execute_reply": "2024-07-16T18:38:15.842747Z"
        },
        "editable": false,
        "trusted": true,
        "id": "ELxhbySvQod-"
      },
      "execution_count": null,
      "outputs": []
    },
    {
      "cell_type": "code",
      "source": [
        "# df_train.column_names\n"
      ],
      "metadata": {
        "execution": {
          "iopub.status.busy": "2024-07-15T01:43:48.371187Z",
          "iopub.execute_input": "2024-07-15T01:43:48.371556Z",
          "iopub.status.idle": "2024-07-15T01:43:48.375864Z",
          "shell.execute_reply.started": "2024-07-15T01:43:48.371527Z",
          "shell.execute_reply": "2024-07-15T01:43:48.374663Z"
        },
        "editable": false,
        "trusted": true,
        "id": "O4oj3qugQod-"
      },
      "execution_count": null,
      "outputs": []
    },
    {
      "cell_type": "code",
      "source": [
        "# tokenized_train = tokenized_train.remove_columns(['text'])\n",
        "# tokenized_test = tokenized_test.remove_columns(['text'])"
      ],
      "metadata": {
        "execution": {
          "iopub.status.busy": "2024-07-15T01:43:50.230264Z",
          "iopub.execute_input": "2024-07-15T01:43:50.230651Z",
          "iopub.status.idle": "2024-07-15T01:43:50.245050Z",
          "shell.execute_reply.started": "2024-07-15T01:43:50.230620Z",
          "shell.execute_reply": "2024-07-15T01:43:50.243927Z"
        },
        "editable": false,
        "trusted": true,
        "id": "noYySAJWQod_"
      },
      "execution_count": null,
      "outputs": []
    },
    {
      "cell_type": "code",
      "source": [
        "data_collator = DataCollatorWithPadding(tokenizer=tokenizer)"
      ],
      "metadata": {
        "execution": {
          "iopub.status.busy": "2024-07-16T18:39:01.509981Z",
          "iopub.execute_input": "2024-07-16T18:39:01.510759Z",
          "iopub.status.idle": "2024-07-16T18:39:01.515293Z",
          "shell.execute_reply.started": "2024-07-16T18:39:01.510724Z",
          "shell.execute_reply": "2024-07-16T18:39:01.514114Z"
        },
        "editable": false,
        "trusted": true,
        "id": "dijKDv6BQod_"
      },
      "execution_count": null,
      "outputs": []
    },
    {
      "cell_type": "code",
      "source": [
        "model = AutoModelForSequenceClassification.from_pretrained(\n",
        "    'bert-base-uncased',\n",
        "#     num_labels=len(np.unique(df['overall']))\n",
        "    num_labels=5\n",
        ")"
      ],
      "metadata": {
        "execution": {
          "iopub.status.busy": "2024-07-16T18:39:05.717977Z",
          "iopub.execute_input": "2024-07-16T18:39:05.718465Z",
          "iopub.status.idle": "2024-07-16T18:39:07.767573Z",
          "shell.execute_reply.started": "2024-07-16T18:39:05.718433Z",
          "shell.execute_reply": "2024-07-16T18:39:07.766645Z"
        },
        "editable": false,
        "trusted": true,
        "colab": {
          "referenced_widgets": [
            "b901bc1c885642918181caa5b270b0d5"
          ]
        },
        "id": "9Ih-lW_lQod_",
        "outputId": "eb116fb4-54f6-4675-fb59-4dc81b792774"
      },
      "execution_count": null,
      "outputs": [
        {
          "output_type": "display_data",
          "data": {
            "text/plain": "model.safetensors:   0%|          | 0.00/440M [00:00<?, ?B/s]",
            "application/vnd.jupyter.widget-view+json": {
              "version_major": 2,
              "version_minor": 0,
              "model_id": "b901bc1c885642918181caa5b270b0d5"
            }
          },
          "metadata": {}
        },
        {
          "name": "stderr",
          "text": "Some weights of BertForSequenceClassification were not initialized from the model checkpoint at bert-base-uncased and are newly initialized: ['classifier.bias', 'classifier.weight']\nYou should probably TRAIN this model on a down-stream task to be able to use it for predictions and inference.\n",
          "output_type": "stream"
        }
      ]
    },
    {
      "cell_type": "code",
      "source": [
        "import os\n",
        "os.environ[\"WANDB_DISABLED\"] = \"true\""
      ],
      "metadata": {
        "execution": {
          "iopub.status.busy": "2024-07-16T18:39:08.657145Z",
          "iopub.execute_input": "2024-07-16T18:39:08.657881Z",
          "iopub.status.idle": "2024-07-16T18:39:08.662437Z",
          "shell.execute_reply.started": "2024-07-16T18:39:08.657847Z",
          "shell.execute_reply": "2024-07-16T18:39:08.661363Z"
        },
        "editable": false,
        "trusted": true,
        "id": "la3FPpreQod_"
      },
      "execution_count": null,
      "outputs": []
    },
    {
      "cell_type": "code",
      "source": [
        "training_args = TrainingArguments(\n",
        "    output_dir='./results',\n",
        "    num_train_epochs=1,\n",
        "    per_device_train_batch_size=32,\n",
        "    per_device_eval_batch_size=32,\n",
        "    learning_rate=1e-5,\n",
        "    weight_decay=0.01,\n",
        "    logging_dir='./logs',\n",
        "    evaluation_strategy=\"epoch\",\n",
        "    save_strategy=\"epoch\",\n",
        "    load_best_model_at_end=True,\n",
        "    logging_steps=10,\n",
        "#     fp16=True\n",
        ")"
      ],
      "metadata": {
        "execution": {
          "iopub.status.busy": "2024-07-16T18:39:26.663310Z",
          "iopub.execute_input": "2024-07-16T18:39:26.663676Z",
          "iopub.status.idle": "2024-07-16T18:39:26.673995Z",
          "shell.execute_reply.started": "2024-07-16T18:39:26.663650Z",
          "shell.execute_reply": "2024-07-16T18:39:26.672920Z"
        },
        "editable": false,
        "trusted": true,
        "id": "A4eGatkmQoeA",
        "outputId": "fb2cf5d8-376d-45e7-9db2-e33881b3cd5d"
      },
      "execution_count": null,
      "outputs": [
        {
          "name": "stderr",
          "text": "Using the `WANDB_DISABLED` environment variable is deprecated and will be removed in v5. Use the --report_to flag to control the integrations used for logging result (for instance --report_to none).\n",
          "output_type": "stream"
        }
      ]
    },
    {
      "cell_type": "code",
      "source": [
        "from sklearn.metrics import accuracy_score, precision_score, recall_score, f1_score\n",
        "\n",
        "def compute_metrics(pred):\n",
        "    labels = pred.label_ids\n",
        "    preds = pred.predictions.argmax(-1)\n",
        "\n",
        "    # Calculate accuracy\n",
        "    accuracy = accuracy_score(labels, preds)\n",
        "\n",
        "   # Calculate precision, recall, and F1-score\n",
        "#     precision = precision_score(labels, preds, average='weighted')\n",
        "#     recall = recall_score(labels, preds, average='weighted')\n",
        "    f1 = f1_score(labels, preds, average='weighted')\n",
        "\n",
        "    return {\n",
        "        'accuracy': accuracy,\n",
        "#         'precision': precision,\n",
        "#         'recall': recall,\n",
        "        'f1': f1\n",
        "    }"
      ],
      "metadata": {
        "execution": {
          "iopub.status.busy": "2024-07-16T18:39:27.923127Z",
          "iopub.execute_input": "2024-07-16T18:39:27.923862Z",
          "iopub.status.idle": "2024-07-16T18:39:27.930189Z",
          "shell.execute_reply.started": "2024-07-16T18:39:27.923825Z",
          "shell.execute_reply": "2024-07-16T18:39:27.929114Z"
        },
        "editable": false,
        "trusted": true,
        "id": "1BmxbA-BQoeA"
      },
      "execution_count": null,
      "outputs": []
    },
    {
      "cell_type": "code",
      "source": [
        "trainer = Trainer(\n",
        "    model=model,\n",
        "    args=training_args,\n",
        "    train_dataset=tokenized_train,\n",
        "    eval_dataset=tokenized_test,\n",
        "    data_collator=data_collator,\n",
        "    compute_metrics=compute_metrics,\n",
        ")"
      ],
      "metadata": {
        "execution": {
          "iopub.status.busy": "2024-07-16T18:39:29.522550Z",
          "iopub.execute_input": "2024-07-16T18:39:29.522900Z",
          "iopub.status.idle": "2024-07-16T18:39:29.538407Z",
          "shell.execute_reply.started": "2024-07-16T18:39:29.522874Z",
          "shell.execute_reply": "2024-07-16T18:39:29.537389Z"
        },
        "editable": false,
        "trusted": true,
        "id": "LALPtJ8sQoeB"
      },
      "execution_count": null,
      "outputs": []
    },
    {
      "cell_type": "code",
      "source": [
        "trainer.train()"
      ],
      "metadata": {
        "execution": {
          "iopub.status.busy": "2024-07-16T18:39:30.778985Z",
          "iopub.execute_input": "2024-07-16T18:39:30.779419Z",
          "iopub.status.idle": "2024-07-16T18:40:29.189222Z",
          "shell.execute_reply.started": "2024-07-16T18:39:30.779383Z",
          "shell.execute_reply": "2024-07-16T18:40:29.187399Z"
        },
        "editable": false,
        "trusted": true,
        "id": "vjqrVJjGQoeB"
      },
      "execution_count": null,
      "outputs": []
    },
    {
      "cell_type": "code",
      "source": [
        "trainer.evaluate()"
      ],
      "metadata": {
        "execution": {
          "iopub.status.busy": "2024-07-15T04:02:03.532310Z",
          "iopub.execute_input": "2024-07-15T04:02:03.533125Z",
          "iopub.status.idle": "2024-07-15T04:05:03.288262Z",
          "shell.execute_reply.started": "2024-07-15T04:02:03.533080Z",
          "shell.execute_reply": "2024-07-15T04:05:03.287216Z"
        },
        "editable": false,
        "trusted": true,
        "id": "-LgvYKS9QoeB",
        "outputId": "c3361728-a74f-43cd-fd30-e301d62aba6c"
      },
      "execution_count": null,
      "outputs": [
        {
          "output_type": "display_data",
          "data": {
            "text/plain": "<IPython.core.display.HTML object>",
            "text/html": "\n    <div>\n      \n      <progress value='782' max='782' style='width:300px; height:20px; vertical-align: middle;'></progress>\n      [782/782 02:59]\n    </div>\n    "
          },
          "metadata": {}
        },
        {
          "execution_count": 45,
          "output_type": "execute_result",
          "data": {
            "text/plain": "{'eval_loss': 0.7219622135162354,\n 'eval_accuracy': 0.71318,\n 'eval_f1': 0.6940774495936938,\n 'eval_runtime': 179.7448,\n 'eval_samples_per_second': 278.172,\n 'eval_steps_per_second': 4.351,\n 'epoch': 1.0}"
          },
          "metadata": {}
        }
      ]
    },
    {
      "cell_type": "code",
      "source": [
        "trainer.save_model('/kaggle/working/final_Model')"
      ],
      "metadata": {
        "execution": {
          "iopub.status.busy": "2024-07-15T04:05:31.529212Z",
          "iopub.execute_input": "2024-07-15T04:05:31.529582Z",
          "iopub.status.idle": "2024-07-15T04:05:32.272650Z",
          "shell.execute_reply.started": "2024-07-15T04:05:31.529552Z",
          "shell.execute_reply": "2024-07-15T04:05:32.271558Z"
        },
        "editable": false,
        "trusted": true,
        "id": "rAfmeKfPQoeB"
      },
      "execution_count": null,
      "outputs": []
    },
    {
      "cell_type": "code",
      "source": [
        "!zip -r /kaggle/working/final_Model_1epoch.zip 'final_Model'"
      ],
      "metadata": {
        "execution": {
          "iopub.status.busy": "2024-07-15T04:16:20.946869Z",
          "iopub.execute_input": "2024-07-15T04:16:20.947299Z",
          "iopub.status.idle": "2024-07-15T04:17:08.355094Z",
          "shell.execute_reply.started": "2024-07-15T04:16:20.947264Z",
          "shell.execute_reply": "2024-07-15T04:17:08.353816Z"
        },
        "editable": false,
        "trusted": true,
        "id": "2mPplvq7QoeC",
        "outputId": "900f86df-6119-46a1-c85d-01eab43f343f"
      },
      "execution_count": null,
      "outputs": [
        {
          "name": "stderr",
          "text": "huggingface/tokenizers: The current process just got forked, after parallelism has already been used. Disabling parallelism to avoid deadlocks...\nTo disable this warning, you can either:\n\t- Avoid using `tokenizers` before the fork if possible\n\t- Explicitly set the environment variable TOKENIZERS_PARALLELISM=(true | false)\n",
          "output_type": "stream"
        },
        {
          "name": "stdout",
          "text": "  adding: final_Model/ (stored 0%)\n  adding: final_Model/model.safetensors (deflated 7%)\n  adding: final_Model/training_args.bin (deflated 51%)\n  adding: final_Model/kaggle/ (stored 0%)\n  adding: final_Model/kaggle/working/ (stored 0%)\n  adding: final_Model/kaggle/working/final_Model/ (stored 0%)\n  adding: final_Model/kaggle/working/final_Model/model.safetensors (deflated 7%)\n  adding: final_Model/kaggle/working/final_Model/training_args.bin (deflated 51%)\n  adding: final_Model/kaggle/working/final_Model/config.json (deflated 53%)\n  adding: final_Model/config.json (deflated 53%)\n",
          "output_type": "stream"
        }
      ]
    },
    {
      "cell_type": "code",
      "source": [
        "!unzip -o /kaggle/working/final_Model_1epoch.zip -d  /kaggle/working/final_Model"
      ],
      "metadata": {
        "execution": {
          "iopub.status.busy": "2024-07-16T18:41:04.060002Z",
          "iopub.execute_input": "2024-07-16T18:41:04.060819Z",
          "iopub.status.idle": "2024-07-16T18:41:05.404131Z",
          "shell.execute_reply.started": "2024-07-16T18:41:04.060782Z",
          "shell.execute_reply": "2024-07-16T18:41:05.402667Z"
        },
        "editable": false,
        "trusted": true,
        "id": "bzuAXocSQoeC",
        "outputId": "998070a3-2cfb-4ea2-8b70-78c06c5602ee"
      },
      "execution_count": null,
      "outputs": [
        {
          "name": "stderr",
          "text": "huggingface/tokenizers: The current process just got forked, after parallelism has already been used. Disabling parallelism to avoid deadlocks...\nTo disable this warning, you can either:\n\t- Avoid using `tokenizers` before the fork if possible\n\t- Explicitly set the environment variable TOKENIZERS_PARALLELISM=(true | false)\n",
          "output_type": "stream"
        },
        {
          "name": "stdout",
          "text": "unzip:  cannot find or open /kaggle/working/final_Model_1epoch.zip, /kaggle/working/final_Model_1epoch.zip.zip or /kaggle/working/final_Model_1epoch.zip.ZIP.\n",
          "output_type": "stream"
        }
      ]
    },
    {
      "cell_type": "code",
      "source": [
        "# !pip install evaluate"
      ],
      "metadata": {
        "editable": false,
        "id": "mMbYbrc8QoeC"
      },
      "execution_count": null,
      "outputs": []
    },
    {
      "cell_type": "code",
      "source": [
        "from transformers import pipeline\n",
        "from datasets import load_dataset\n",
        "from evaluate import evaluator\n",
        "import evaluate"
      ],
      "metadata": {
        "execution": {
          "iopub.status.busy": "2024-07-16T19:10:31.492722Z",
          "iopub.execute_input": "2024-07-16T19:10:31.493189Z",
          "iopub.status.idle": "2024-07-16T19:10:31.501181Z",
          "shell.execute_reply.started": "2024-07-16T19:10:31.493155Z",
          "shell.execute_reply": "2024-07-16T19:10:31.500255Z"
        },
        "editable": false,
        "trusted": true,
        "id": "4F5xXEqwQoeC"
      },
      "execution_count": null,
      "outputs": []
    },
    {
      "cell_type": "code",
      "source": [
        "classifier = pipeline(\"text-classification\", model='/kaggle/input/models/kaggle/working/final_Model', tokenizer=tokenizer,truncation=True,device=0,\n",
        "                      batch_size=4)"
      ],
      "metadata": {
        "execution": {
          "iopub.status.busy": "2024-07-16T19:10:41.026770Z",
          "iopub.execute_input": "2024-07-16T19:10:41.027412Z",
          "iopub.status.idle": "2024-07-16T19:10:41.437523Z",
          "shell.execute_reply.started": "2024-07-16T19:10:41.027381Z",
          "shell.execute_reply": "2024-07-16T19:10:41.436660Z"
        },
        "editable": false,
        "trusted": true,
        "id": "BDRWhCDdQoeD"
      },
      "execution_count": null,
      "outputs": []
    },
    {
      "cell_type": "code",
      "source": [
        "classifier(\"best\")"
      ],
      "metadata": {
        "execution": {
          "iopub.status.busy": "2024-07-16T19:00:10.516455Z",
          "iopub.execute_input": "2024-07-16T19:00:10.516842Z",
          "iopub.status.idle": "2024-07-16T19:00:10.568647Z",
          "shell.execute_reply.started": "2024-07-16T19:00:10.516812Z",
          "shell.execute_reply": "2024-07-16T19:00:10.567609Z"
        },
        "editable": false,
        "trusted": true,
        "id": "djwpg2fNQoeD",
        "outputId": "ffe14671-f70b-4840-906b-ad23c5f54167"
      },
      "execution_count": null,
      "outputs": [
        {
          "execution_count": 118,
          "output_type": "execute_result",
          "data": {
            "text/plain": "[{'label': 'LABEL_4', 'score': 0.5525587201118469}]"
          },
          "metadata": {}
        }
      ]
    },
    {
      "cell_type": "code",
      "source": [
        "from transformers import pipeline\n",
        "from datasets import load_dataset\n",
        "from evaluate import evaluator\n",
        "import evaluate\n",
        "# data = load_dataset(\"imdb\", split=\"test\").shuffle().select(range(1000))\n",
        "metric = evaluate.load(\"accuracy\")\n",
        "task_evaluator = evaluator(\"text-classification\")\n",
        "results = task_evaluator.compute(model_or_pipeline=classifier, data=test_dataset, metric=metric,\n",
        "                       label_mapping={\"LABEL_0\": 0, \"LABEL_1\": 1,'LABEL_2':2,'LABEL_3':3,'LABEL_4':4},)\n",
        "results"
      ],
      "metadata": {
        "execution": {
          "iopub.status.busy": "2024-07-16T19:16:37.129098Z",
          "iopub.execute_input": "2024-07-16T19:16:37.130095Z",
          "iopub.status.idle": "2024-07-16T19:16:59.036859Z",
          "shell.execute_reply.started": "2024-07-16T19:16:37.130061Z",
          "shell.execute_reply": "2024-07-16T19:16:59.034284Z"
        },
        "editable": false,
        "trusted": true,
        "id": "zllRwTGQQoeD"
      },
      "execution_count": null,
      "outputs": []
    },
    {
      "cell_type": "code",
      "source": [
        "trainer.save_model('spam_model')"
      ],
      "metadata": {
        "execution": {
          "iopub.status.busy": "2024-07-16T19:13:12.267124Z",
          "iopub.execute_input": "2024-07-16T19:13:12.267931Z",
          "iopub.status.idle": "2024-07-16T19:13:12.272421Z",
          "shell.execute_reply.started": "2024-07-16T19:13:12.267892Z",
          "shell.execute_reply": "2024-07-16T19:13:12.271352Z"
        },
        "editable": false,
        "trusted": true,
        "id": "KCrgdQl-QoeE"
      },
      "execution_count": null,
      "outputs": []
    }
  ]
}